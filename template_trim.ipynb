{
  "nbformat": 4,
  "nbformat_minor": 0,
  "metadata": {
    "colab": {
      "provenance": [],
      "collapsed_sections": [
        "asPLV6nCQIfC",
        "W2JzKh2PcayM"
      ]
    },
    "kernelspec": {
      "name": "python3",
      "display_name": "Python 3"
    },
    "language_info": {
      "name": "python"
    }
  },
  "cells": [
    {
      "cell_type": "markdown",
      "source": [
        "This notebook will run DeepTMHMM on your GPCR and trim the GPCR pdb based on residue identity and pLDDT.\n",
        "\n",
        "Identify your pdb_file path, and give your pdb a 4-character ID (requried for ColabFold)"
      ],
      "metadata": {
        "id": "kjRQuBtF6ucQ"
      }
    },
    {
      "cell_type": "code",
      "source": [
        "import torch\n",
        "import pandas as pd\n",
        "import numpy as np\n",
        "import os\n",
        "import json\n",
        "!pip install biopython\n",
        "\n",
        "from Bio.PDB import PDBParser, PDBIO\n",
        "from Bio.SeqUtils import seq1\n",
        "from datetime import datetime\n",
        "\n",
        "!pip3 install -qU pybiolib\n",
        "import biolib\n",
        "import re"
      ],
      "metadata": {
        "id": "zqGPc_WVkXSP",
        "colab": {
          "base_uri": "https://localhost:8080/"
        },
        "outputId": "8fdc5f59-1a74-42d1-f3d8-ea060dd84c39"
      },
      "execution_count": 2,
      "outputs": [
        {
          "output_type": "stream",
          "name": "stdout",
          "text": [
            "Requirement already satisfied: biopython in /usr/local/lib/python3.11/dist-packages (1.85)\n",
            "Requirement already satisfied: numpy in /usr/local/lib/python3.11/dist-packages (from biopython) (2.0.2)\n",
            "Collecting xlsxwriter\n",
            "  Downloading XlsxWriter-3.2.2-py3-none-any.whl.metadata (2.8 kB)\n",
            "Downloading XlsxWriter-3.2.2-py3-none-any.whl (165 kB)\n",
            "\u001b[2K   \u001b[90m━━━━━━━━━━━━━━━━━━━━━━━━━━━━━━━━━━━━━━━━\u001b[0m \u001b[32m165.1/165.1 kB\u001b[0m \u001b[31m3.3 MB/s\u001b[0m eta \u001b[36m0:00:00\u001b[0m\n",
            "\u001b[?25hInstalling collected packages: xlsxwriter\n",
            "Successfully installed xlsxwriter-3.2.2\n",
            "\u001b[2K   \u001b[90m━━━━━━━━━━━━━━━━━━━━━━━━━━━━━━━━━━━━━━━━\u001b[0m \u001b[32m155.4/155.4 kB\u001b[0m \u001b[31m3.0 MB/s\u001b[0m eta \u001b[36m0:00:00\u001b[0m\n",
            "\u001b[2K   \u001b[90m━━━━━━━━━━━━━━━━━━━━━━━━━━━━━━━━━━━━━━━━\u001b[0m \u001b[32m147.8/147.8 kB\u001b[0m \u001b[31m10.0 MB/s\u001b[0m eta \u001b[36m0:00:00\u001b[0m\n",
            "\u001b[?25h"
          ]
        }
      ]
    },
    {
      "cell_type": "code",
      "source": [
        "#Choose a 4-character ID number for the resulting template (required for ColabFold)\n",
        "pdb_id = 'xxxx'"
      ],
      "metadata": {
        "id": "Px5E6wfV2Snv"
      },
      "execution_count": 3,
      "outputs": []
    },
    {
      "cell_type": "code",
      "source": [
        "# Identify your file and GPCR name\n",
        "pdb_file = \"/content/GPCR_ACTIVE_STATE_STRUCTURE.pdb\""
      ],
      "metadata": {
        "id": "pA3AoGO6kIuY"
      },
      "execution_count": 4,
      "outputs": []
    },
    {
      "cell_type": "code",
      "source": [
        "output_folder = \"/content/\""
      ],
      "metadata": {
        "id": "EL4ldeCf5YKU"
      },
      "execution_count": 5,
      "outputs": []
    },
    {
      "cell_type": "markdown",
      "source": [
        "# Identify the GPCR sequence from the PDB and run DeepTMHMM"
      ],
      "metadata": {
        "id": "ZBatdvPk3h1K"
      }
    },
    {
      "cell_type": "code",
      "source": [
        "# Install Biopython if you haven't already\n",
        "\n",
        "\n",
        "# Path to your file\n",
        "pdb_file = \"/content/5-HT1AR_unrelaxed_rank_001_alphafold2_ptm_model_1_seed_000.pdb\"\n",
        "\n",
        "# Initialize parser\n",
        "parser = PDBParser(QUIET=True)\n",
        "\n",
        "# Parse the structure\n",
        "structure = parser.get_structure(\"protein\", pdb_file)\n",
        "\n",
        "# Extract sequence from the first model and first chain (modify if needed)\n",
        "model = structure[0]\n",
        "chain = list(model.get_chains())[0]  # Assuming there's only one chain\n",
        "\n",
        "# Build sequence\n",
        "residues = [residue for residue in chain.get_residues() if residue.get_id()[0] == \" \"]\n",
        "sequence = \"\".join([seq1(residue.get_resname()) for residue in residues])\n",
        "\n",
        "# Display the sequence\n",
        "sequence"
      ],
      "metadata": {
        "colab": {
          "base_uri": "https://localhost:8080/",
          "height": 0
        },
        "id": "MIvVoDWe3Tza",
        "outputId": "68ab4db8-97dd-448c-cb07-8af732972587"
      },
      "execution_count": 6,
      "outputs": [
        {
          "output_type": "execute_result",
          "data": {
            "text/plain": [
              "'MDVLSPGQGNNTTSPPAPFETGGNTTGISDVTVSYQVITSLLLGTLIFCAVLGNACVVAAIALERSLQNVANYLIGSLAVTDLMVSVLVLPMAALYQVLNKWTLGQVTCDLFIALDVLCCTSSILHLCAIALDRYWAITDPIDYVNKRTPRRAAALISLTWLIGFLISIPPMLGWRTPEDRSDPDACTISKDHGYTIYSTFGAFYIPLLLMLVLYGRIFRAARFRIRKTVKKVEKTGADTRHGASPAPQPKKSVNGESGSRNWRLGVESKAGGALCANGAVRQGDDGAALEVIEVHRVGNSKEHLPLPSEAGPTPCAPASFERKNERNAEAKRKMALARERKTVKTLGIIMGTFILCWLPFFIVALVLPFCESSCHMPTLLGAIINWLGYSNSLLNPVIYAYFNKDFQNAFKKIIKCKFCRQ'"
            ],
            "application/vnd.google.colaboratory.intrinsic+json": {
              "type": "string"
            }
          },
          "metadata": {},
          "execution_count": 6
        }
      ]
    },
    {
      "cell_type": "code",
      "source": [
        "!echo -e \">{pdb_id}\\n{sequence}\" > query.fasta"
      ],
      "metadata": {
        "id": "ScpApUtg3yUy"
      },
      "execution_count": 7,
      "outputs": []
    },
    {
      "cell_type": "code",
      "source": [
        "deeptmhmm = biolib.load('DTU/DeepTMHMM')"
      ],
      "metadata": {
        "colab": {
          "base_uri": "https://localhost:8080/"
        },
        "id": "z6DrAFqE4Fh5",
        "outputId": "caf05bae-8111-42b2-84b8-4ec05f452c4e"
      },
      "execution_count": 8,
      "outputs": [
        {
          "output_type": "stream",
          "name": "stderr",
          "text": [
            "INFO:biolib:Loaded project DTU/DeepTMHMM:1.0.42\n"
          ]
        }
      ]
    },
    {
      "cell_type": "code",
      "source": [
        "# Run DeepTMHMM\n",
        "deeptmhmm_job = deeptmhmm.cli(args='--fasta query.fasta')\n",
        "# Save the results\n",
        "deeptmhmm_job.save_files('result')"
      ],
      "metadata": {
        "colab": {
          "base_uri": "https://localhost:8080/"
        },
        "id": "qWIG0QQh4MfR",
        "outputId": "e5156cab-bcda-4082-e280-b2e4f617ad78"
      },
      "execution_count": 9,
      "outputs": [
        {
          "output_type": "stream",
          "name": "stderr",
          "text": [
            "INFO:biolib:View the result in your browser at: https://biolib.com/results/23b0d5f9-97b8-4259-937d-eb397b7dc3a1/\n",
            "INFO:biolib:Cloud: Initializing\n",
            "INFO:biolib:Cloud: Pulling images...\n",
            "INFO:biolib:Cloud: Computing...\n"
          ]
        },
        {
          "output_type": "stream",
          "name": "stdout",
          "text": [
            "2025-03-23 16:51:39,660 | INFO : Extracted zip file to: output/\r\n",
            "2025-03-23 16:51:39,661 | INFO : Done in 2.69 seconds\r\n"
          ]
        },
        {
          "output_type": "stream",
          "name": "stderr",
          "text": [
            "INFO:biolib:Cloud: Computation finished\n",
            "INFO:biolib:Cloud: Result Ready\n",
            "INFO:biolib:Waiting for job 23b0d5f9-97b8-4259-937d-eb397b7dc3a1 to finish...\n",
            "INFO:biolib:Job 23b0d5f9-97b8-4259-937d-eb397b7dc3a1 has finished.\n",
            "INFO:biolib:Saving 5 files to result...\n"
          ]
        }
      ]
    },
    {
      "cell_type": "code",
      "source": [
        "def extract_outside_ranges(md_filename):\n",
        "    with open(md_filename, 'r') as file:\n",
        "        content = file.readlines()\n",
        "    ranges_to_delete = []\n",
        "    outside_pattern = re.compile(r\"outside\\s+(\\d+)\\s+(\\d+)\")\n",
        "    last_inside_range = None\n",
        "    for line in content:\n",
        "        outside_match = outside_pattern.search(line)\n",
        "        if outside_match:\n",
        "            start = int(outside_match.group(1))\n",
        "            end = int(outside_match.group(2))\n",
        "            ranges_to_delete.append((start, end))\n",
        "    return ranges_to_delete\n",
        "\n",
        "def extract_inside_ranges(md_filename):\n",
        "    with open(md_filename, 'r') as file:\n",
        "        content = file.readlines()\n",
        "    inside_ranges = []\n",
        "    inside_pattern = re.compile(r\"inside\\s+(\\d+)\\s+(\\d+)\")\n",
        "    for line in content:\n",
        "        inside_match = inside_pattern.search(line)\n",
        "        if inside_match:\n",
        "            start = int(inside_match.group(1))\n",
        "            end = int(inside_match.group(2))\n",
        "            inside_ranges.append((start, end))\n",
        "    return inside_ranges\n",
        "\n",
        "md_filename = \"/content/result/deeptmhmm_results.md\"\n",
        "inside_ranges = extract_inside_ranges(md_filename)\n",
        "outside_ranges = extract_outside_ranges(md_filename)"
      ],
      "metadata": {
        "id": "_2k_zXtV4QyQ"
      },
      "execution_count": 10,
      "outputs": []
    },
    {
      "cell_type": "code",
      "source": [
        "# Print the extracted ranges\n",
        "print(pdb_id)\n",
        "print(\"Extracellular:\", outside_ranges)\n",
        "# Print the identified inside ranges\n",
        "print(\"Intracellular:\", inside_ranges)"
      ],
      "metadata": {
        "colab": {
          "base_uri": "https://localhost:8080/"
        },
        "id": "f4vyahuf4s6S",
        "outputId": "3a9740b3-5822-4158-b6ca-8c4f70e2a1f5"
      },
      "execution_count": 11,
      "outputs": [
        {
          "output_type": "stream",
          "name": "stdout",
          "text": [
            "xxxx\n",
            "Extracellular: [(1, 36), (96, 109), (174, 194), (368, 382)]\n",
            "Intracellular: [(64, 72), (133, 152), (217, 346), (404, 422)]\n"
          ]
        }
      ]
    },
    {
      "cell_type": "markdown",
      "source": [
        "# Trim the pdb\n",
        "Remove all extracellular residues\n",
        "Remove intracellular residues with pLDDT <= 70"
      ],
      "metadata": {
        "id": "YkKvAbroQQOX"
      }
    },
    {
      "cell_type": "code",
      "source": [
        "def remove_residues(structure, ranges):\n",
        "    for model in structure:\n",
        "        for chain in model:\n",
        "            residues_to_delete = []\n",
        "            for residue in chain:\n",
        "                residue_id = residue.id[1]\n",
        "                # Check if the residue should be removed based on the ranges\n",
        "                for start, end in ranges:\n",
        "                    if start <= residue_id <= end:\n",
        "                        residues_to_delete.append(residue)\n",
        "            for residue in residues_to_delete:\n",
        "                chain.detach_child(residue.id)\n",
        "\n",
        "def remove_low_plddt_residues(structure, ranges, plddt_threshold=70):\n",
        "    for model in structure:\n",
        "        for chain in model:\n",
        "            residues_to_delete = []\n",
        "            for residue in chain:\n",
        "                residue_id = residue.id[1]\n",
        "                # Check if the residue is in the \"inside\" ranges\n",
        "                for start, end in ranges:\n",
        "                    if start <= residue_id <= end:\n",
        "                        # Check the pLDDT (bfactor)\n",
        "                        plddt_value = residue.child_list[0].bfactor\n",
        "                        # Mark residue for deletion if pLDDT is <= 70\n",
        "                        if plddt_value <= plddt_threshold:\n",
        "                            residues_to_delete.append(residue)\n",
        "                        break\n",
        "            for residue in residues_to_delete:\n",
        "                chain.detach_child(residue.id)\n"
      ],
      "metadata": {
        "id": "zn649fFHNrcJ"
      },
      "execution_count": 12,
      "outputs": []
    },
    {
      "cell_type": "code",
      "source": [
        "parser = PDBParser(QUIET=True)\n",
        "structure = parser.get_structure(\"gpcr\", pdb_file)\n",
        "\n",
        "# Remove residues in the \"outside\" ranges\n",
        "remove_residues(structure, outside_ranges)\n",
        "\n",
        "# Remove \"inside\" residues with pLDDT <= 70\n",
        "remove_low_plddt_residues(structure, inside_ranges, plddt_threshold=70)\n",
        "\n",
        "# Save the trimmed pdb\n",
        "io = PDBIO()\n",
        "output_pdb_filename = os.path.join(output_folder, f\"{pdb_id}.pdb\")\n",
        "io.set_structure(structure)\n",
        "io.save(output_pdb_filename)\n",
        "\n",
        "print(f\"Saved modified PDB file: {output_pdb_filename}\")\n"
      ],
      "metadata": {
        "colab": {
          "base_uri": "https://localhost:8080/"
        },
        "id": "whixkhIN5_R8",
        "outputId": "653efbbe-23bd-4136-bfd3-2bd1a980fcf1"
      },
      "execution_count": 14,
      "outputs": [
        {
          "output_type": "stream",
          "name": "stdout",
          "text": [
            "Saved modified PDB file: /content/xxxx.pdb\n"
          ]
        }
      ]
    }
  ]
}
