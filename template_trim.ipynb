{
  "nbformat": 4,
  "nbformat_minor": 0,
  "metadata": {
    "colab": {
      "provenance": [],
      "collapsed_sections": [
        "ZBatdvPk3h1K",
        "YkKvAbroQQOX"
      ]
    },
    "kernelspec": {
      "name": "python3",
      "display_name": "Python 3"
    },
    "language_info": {
      "name": "python"
    }
  },
  "cells": [
    {
      "cell_type": "markdown",
      "source": [
        "This notebook will run DeepTMHMM on your GPCR and trim the GPCR pdb based on residue identity and pLDDT.\n",
        "\n",
        "Identify your pdb_file path, and give your pdb a 4-character ID (requried for ColabFold)"
      ],
      "metadata": {
        "id": "kjRQuBtF6ucQ"
      }
    },
    {
      "cell_type": "code",
      "source": [
        "import torch\n",
        "import pandas as pd\n",
        "import numpy as np\n",
        "import os\n",
        "import json\n",
        "!pip install biopython\n",
        "\n",
        "from Bio.PDB import PDBParser, PDBIO\n",
        "from Bio.SeqUtils import seq1\n",
        "from datetime import datetime\n",
        "\n",
        "!pip3 install -qU pybiolib\n",
        "import biolib\n",
        "import re"
      ],
      "metadata": {
        "id": "zqGPc_WVkXSP",
        "colab": {
          "base_uri": "https://localhost:8080/"
        },
        "outputId": "efa6b53d-1ca0-4436-f537-90ba8d54dda9"
      },
      "execution_count": 17,
      "outputs": [
        {
          "output_type": "stream",
          "name": "stdout",
          "text": [
            "Requirement already satisfied: biopython in /usr/local/lib/python3.11/dist-packages (1.85)\n",
            "Requirement already satisfied: numpy in /usr/local/lib/python3.11/dist-packages (from biopython) (2.0.2)\n"
          ]
        }
      ]
    },
    {
      "cell_type": "code",
      "source": [
        "#Choose a 4-character ID number for the resulting template (required for ColabFold)\n",
        "pdb_id = 'xxxx'"
      ],
      "metadata": {
        "id": "Px5E6wfV2Snv"
      },
      "execution_count": 18,
      "outputs": []
    },
    {
      "cell_type": "code",
      "source": [
        "# Identify your file and GPCR name\n",
        "pdb_file = \"/content/GPCR_ACTIVE_STATE_PDB.pdb\""
      ],
      "metadata": {
        "id": "pA3AoGO6kIuY"
      },
      "execution_count": 19,
      "outputs": []
    },
    {
      "cell_type": "code",
      "source": [
        "output_folder = \"/content/\""
      ],
      "metadata": {
        "id": "EL4ldeCf5YKU"
      },
      "execution_count": 20,
      "outputs": []
    },
    {
      "cell_type": "markdown",
      "source": [
        "# Identify the GPCR sequence from the PDB and run DeepTMHMM"
      ],
      "metadata": {
        "id": "ZBatdvPk3h1K"
      }
    },
    {
      "cell_type": "code",
      "source": [
        "parser = PDBParser(QUIET=True)\n",
        "structure = parser.get_structure(\"protein\", pdb_file)\n",
        "#get sequence from the first model and first chain\n",
        "model = structure[0]\n",
        "chain = list(model.get_chains())[0]  # Assuming there's only one chain\n",
        "\n",
        "residues = [residue for residue in chain.get_residues() if residue.get_id()[0] == \" \"]\n",
        "sequence = \"\".join([seq1(residue.get_resname()) for residue in residues])\n",
        "\n",
        "sequence"
      ],
      "metadata": {
        "colab": {
          "base_uri": "https://localhost:8080/",
          "height": 87
        },
        "id": "MIvVoDWe3Tza",
        "outputId": "83b4fdda-74ef-4db4-ec89-9f7711922b64"
      },
      "execution_count": 21,
      "outputs": [
        {
          "output_type": "execute_result",
          "data": {
            "text/plain": [
              "'MARGGAGAEEASLRSNALSWLACGLLALLANAWIILSISAKQQKHKPLELLLCFLAGTHILMAAVPLTTFAVVQLRRQASSDYDWNESICKVFVSTYYTLALATCFTVASLSYHRMWMVRWPVNYRLSNAKKQALHAVMGIWMVSFILSTLPSIGWHNNGERYYARGCQFIVSKIGLGFGVCFSLLLLGGIVMGLVCVAITFYQTLWARPRRARQARRVGGGGGTKAGGPGALGTRPAFEVPAIVVEDARGKRRSSLDGSESAKTSLQVTNLVSAIVFLYDSLTGVPILVVSFFSLKSDSAPPWMVLAVLWCSMAQTLLLPSFIWSCERYRADVRTVWEQCVAIMSEEDGDDDGGCDDYAEGRVCKVRFDANGATGPGSRDPAQVKLLPGRHMLFPPLERVHYLQVPLSRRLSHDETNIFSTPREPGSFLHKWSSSDDIRVLPAQSRALGGPPEYLGQRHRLEDEEDEEEAEGGGLASLRQFLESGVLGSGGGPPRGPGFFREEITTFIDETPLPSPTASPGHSPRRPRPLGLSPRRLSLGSPESRAVGLPLGLSAGRRCSLTGGEESARAWGGSWGPGNPIFPQLTL'"
            ],
            "application/vnd.google.colaboratory.intrinsic+json": {
              "type": "string"
            }
          },
          "metadata": {},
          "execution_count": 21
        }
      ]
    },
    {
      "cell_type": "code",
      "source": [
        "!echo -e \">{pdb_id}\\n{sequence}\" > query.fasta"
      ],
      "metadata": {
        "id": "ScpApUtg3yUy"
      },
      "execution_count": 22,
      "outputs": []
    },
    {
      "cell_type": "code",
      "source": [
        "deeptmhmm = biolib.load('DTU/DeepTMHMM')"
      ],
      "metadata": {
        "colab": {
          "base_uri": "https://localhost:8080/"
        },
        "id": "z6DrAFqE4Fh5",
        "outputId": "60751412-4fab-4de0-c7ab-69c07add4666"
      },
      "execution_count": 23,
      "outputs": [
        {
          "output_type": "stream",
          "name": "stderr",
          "text": [
            "INFO:biolib:Loaded project DTU/DeepTMHMM:1.0.42\n"
          ]
        }
      ]
    },
    {
      "cell_type": "code",
      "source": [
        "#Run DeepTMHMM\n",
        "deeptmhmm_job = deeptmhmm.cli(args='--fasta query.fasta')\n",
        "deeptmhmm_job.save_files('result')"
      ],
      "metadata": {
        "colab": {
          "base_uri": "https://localhost:8080/"
        },
        "id": "qWIG0QQh4MfR",
        "outputId": "248637a8-1cd1-46fe-c8a3-bbd6a82f7d8a"
      },
      "execution_count": 24,
      "outputs": [
        {
          "output_type": "stream",
          "name": "stderr",
          "text": [
            "INFO:biolib:View the result in your browser at: https://biolib.com/results/02d2a7af-a169-4d7c-8daa-097eb9efbf58/\n",
            "INFO:biolib:Cloud: Initializing\n",
            "INFO:biolib:Cloud: Pulling images...\n",
            "INFO:biolib:Cloud: Computing...\n",
            "INFO:biolib:Cloud: Computation finished\n"
          ]
        },
        {
          "output_type": "stream",
          "name": "stdout",
          "text": [
            "2025-03-26 22:17:35,944 | INFO : Extracted zip file to: output/\r\n",
            "2025-03-26 22:17:35,944 | INFO : Done in 3.11 seconds\r\n"
          ]
        },
        {
          "output_type": "stream",
          "name": "stderr",
          "text": [
            "INFO:biolib:Cloud: Result Ready\n",
            "INFO:biolib:Waiting for job 02d2a7af-a169-4d7c-8daa-097eb9efbf58 to finish...\n",
            "INFO:biolib:Job 02d2a7af-a169-4d7c-8daa-097eb9efbf58 has finished.\n",
            "INFO:biolib:Saving 5 files to result...\n"
          ]
        }
      ]
    },
    {
      "cell_type": "code",
      "source": [
        "def extract_outside_ranges(md_filename):\n",
        "    with open(md_filename, 'r') as file:\n",
        "        content = file.readlines()\n",
        "    ranges_to_delete = []\n",
        "    outside_pattern = re.compile(r\"outside\\s+(\\d+)\\s+(\\d+)\")\n",
        "    last_inside_range = None\n",
        "    for line in content:\n",
        "        outside_match = outside_pattern.search(line)\n",
        "        if outside_match:\n",
        "            start = int(outside_match.group(1))\n",
        "            end = int(outside_match.group(2))\n",
        "            ranges_to_delete.append((start, end))\n",
        "    return ranges_to_delete\n",
        "\n",
        "def extract_inside_ranges(md_filename):\n",
        "    with open(md_filename, 'r') as file:\n",
        "        content = file.readlines()\n",
        "    inside_ranges = []\n",
        "    inside_pattern = re.compile(r\"inside\\s+(\\d+)\\s+(\\d+)\")\n",
        "    for line in content:\n",
        "        inside_match = inside_pattern.search(line)\n",
        "        if inside_match:\n",
        "            start = int(inside_match.group(1))\n",
        "            end = int(inside_match.group(2))\n",
        "            inside_ranges.append((start, end))\n",
        "    return inside_ranges\n",
        "\n",
        "md_filename = \"/content/result/deeptmhmm_results.md\"\n",
        "inside_ranges = extract_inside_ranges(md_filename)\n",
        "outside_ranges = extract_outside_ranges(md_filename)"
      ],
      "metadata": {
        "id": "_2k_zXtV4QyQ"
      },
      "execution_count": 25,
      "outputs": []
    },
    {
      "cell_type": "code",
      "source": [
        "#Print the extracted ranges\n",
        "print(pdb_id)\n",
        "print(\"Extracellular:\", outside_ranges)\n",
        "print(\"Intracellular:\", inside_ranges)"
      ],
      "metadata": {
        "colab": {
          "base_uri": "https://localhost:8080/"
        },
        "id": "f4vyahuf4s6S",
        "outputId": "89a653b3-1b00-4174-8002-7b183d4124e7"
      },
      "execution_count": 26,
      "outputs": [
        {
          "output_type": "stream",
          "name": "stdout",
          "text": [
            "xxx2\n",
            "Extracellular: [(1, 16), (72, 91), (155, 178), (294, 304)]\n",
            "Intracellular: [(37, 49), (112, 133), (201, 274), (326, 588)]\n"
          ]
        }
      ]
    },
    {
      "cell_type": "markdown",
      "source": [
        "# Trim the pdb\n",
        "Remove all extracellular residues\n",
        "Remove intracellular residues with pLDDT <= 70"
      ],
      "metadata": {
        "id": "YkKvAbroQQOX"
      }
    },
    {
      "cell_type": "code",
      "source": [
        "def remove_residues(structure, ranges):\n",
        "    for model in structure:\n",
        "        for chain in model:\n",
        "            residues_to_delete = []\n",
        "            for residue in chain:\n",
        "                residue_id = residue.id[1]\n",
        "                # Check if the residue should be removed based on the ranges\n",
        "                for start, end in ranges:\n",
        "                    if start <= residue_id <= end:\n",
        "                        residues_to_delete.append(residue)\n",
        "            for residue in residues_to_delete:\n",
        "                chain.detach_child(residue.id)\n",
        "\n",
        "def remove_low_plddt_residues(structure, ranges, plddt_threshold=70):\n",
        "    for model in structure:\n",
        "        for chain in model:\n",
        "            residues_to_delete = []\n",
        "            for residue in chain:\n",
        "                residue_id = residue.id[1]\n",
        "                # Check if the residue is in the \"inside\" ranges\n",
        "                for start, end in ranges:\n",
        "                    if start <= residue_id <= end:\n",
        "                        # Check the pLDDT (bfactor)\n",
        "                        plddt_value = residue.child_list[0].bfactor\n",
        "                        # Mark residue for deletion if pLDDT is <= 70\n",
        "                        if plddt_value <= plddt_threshold:\n",
        "                            residues_to_delete.append(residue)\n",
        "                        break\n",
        "            for residue in residues_to_delete:\n",
        "                chain.detach_child(residue.id)\n"
      ],
      "metadata": {
        "id": "zn649fFHNrcJ"
      },
      "execution_count": 27,
      "outputs": []
    },
    {
      "cell_type": "code",
      "source": [
        "parser = PDBParser(QUIET=True)\n",
        "structure = parser.get_structure(\"gpcr\", pdb_file)\n",
        "\n",
        "# Remove residues in the \"outside\" ranges\n",
        "remove_residues(structure, outside_ranges)\n",
        "\n",
        "# Remove \"inside\" residues with pLDDT <= 70\n",
        "remove_low_plddt_residues(structure, inside_ranges, plddt_threshold=70)\n",
        "\n",
        "# Save the trimmed pdb\n",
        "io = PDBIO()\n",
        "output_pdb_filename = os.path.join(output_folder, f\"{pdb_id}.pdb\")\n",
        "io.set_structure(structure)\n",
        "io.save(output_pdb_filename)\n",
        "\n",
        "print(f\"Saved modified PDB file: {output_pdb_filename}\")\n"
      ],
      "metadata": {
        "colab": {
          "base_uri": "https://localhost:8080/"
        },
        "id": "whixkhIN5_R8",
        "outputId": "40587ef8-bf43-47fc-c3ee-6d0340c163d0"
      },
      "execution_count": 28,
      "outputs": [
        {
          "output_type": "stream",
          "name": "stdout",
          "text": [
            "Saved modified PDB file: /content/xxx2.pdb\n"
          ]
        }
      ]
    }
  ]
}