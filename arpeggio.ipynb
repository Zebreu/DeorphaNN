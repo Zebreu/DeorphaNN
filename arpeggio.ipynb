{
  "cells": [
    {
      "cell_type": "code",
      "source": [
        "#Path to your relaxed pdb\n",
        "pdb = '/content/RELAXED_GPCR-PEPTIDE_PREDICTED_STRUCTURE.pdb'"
      ],
      "metadata": {
        "id": "x2F9VIXHPQCU"
      },
      "execution_count": 2,
      "outputs": []
    },
    {
      "cell_type": "markdown",
      "source": [
        "#RUN"
      ],
      "metadata": {
        "id": "s2xUx_T8eaa-"
      }
    },
    {
      "cell_type": "code",
      "source": [
        "pip install pdbe-arpeggio # Successfully installed pdbe-arpeggio-1.4.4"
      ],
      "metadata": {
        "colab": {
          "base_uri": "https://localhost:8080/"
        },
        "id": "xBLmir_c3_U4",
        "outputId": "376b5c5f-c7e8-4125-d8de-471ea43a1f59",
        "collapsed": true
      },
      "execution_count": 3,
      "outputs": [
        {
          "output_type": "stream",
          "name": "stdout",
          "text": [
            "Collecting pdbe-arpeggio\n",
            "  Downloading pdbe_arpeggio-1.4.4-py3-none-any.whl.metadata (9.7 kB)\n",
            "Collecting gemmi (from pdbe-arpeggio)\n",
            "  Downloading gemmi-0.7.0-cp311-cp311-manylinux_2_17_x86_64.manylinux2014_x86_64.whl.metadata (2.4 kB)\n",
            "Requirement already satisfied: numpy in /usr/local/lib/python3.11/dist-packages (from pdbe-arpeggio) (2.0.2)\n",
            "Collecting biopython (from pdbe-arpeggio)\n",
            "  Downloading biopython-1.85-cp311-cp311-manylinux_2_17_x86_64.manylinux2014_x86_64.whl.metadata (13 kB)\n",
            "Downloading pdbe_arpeggio-1.4.4-py3-none-any.whl (63 kB)\n",
            "\u001b[2K   \u001b[90m━━━━━━━━━━━━━━━━━━━━━━━━━━━━━━━━━━━━━━━━\u001b[0m \u001b[32m63.0/63.0 kB\u001b[0m \u001b[31m4.7 MB/s\u001b[0m eta \u001b[36m0:00:00\u001b[0m\n",
            "\u001b[?25hDownloading biopython-1.85-cp311-cp311-manylinux_2_17_x86_64.manylinux2014_x86_64.whl (3.3 MB)\n",
            "\u001b[2K   \u001b[90m━━━━━━━━━━━━━━━━━━━━━━━━━━━━━━━━━━━━━━━━\u001b[0m \u001b[32m3.3/3.3 MB\u001b[0m \u001b[31m85.5 MB/s\u001b[0m eta \u001b[36m0:00:00\u001b[0m\n",
            "\u001b[?25hDownloading gemmi-0.7.0-cp311-cp311-manylinux_2_17_x86_64.manylinux2014_x86_64.whl (2.5 MB)\n",
            "\u001b[2K   \u001b[90m━━━━━━━━━━━━━━━━━━━━━━━━━━━━━━━━━━━━━━━━\u001b[0m \u001b[32m2.5/2.5 MB\u001b[0m \u001b[31m59.3 MB/s\u001b[0m eta \u001b[36m0:00:00\u001b[0m\n",
            "\u001b[?25hInstalling collected packages: gemmi, biopython, pdbe-arpeggio\n",
            "Successfully installed biopython-1.85 gemmi-0.7.0 pdbe-arpeggio-1.4.4\n"
          ]
        }
      ]
    },
    {
      "cell_type": "code",
      "source": [
        "pip install atomium #  atomium-1.0.11"
      ],
      "metadata": {
        "colab": {
          "base_uri": "https://localhost:8080/"
        },
        "id": "Z1xyxih7IgVA",
        "outputId": "a895829f-2c93-4cd1-be4c-50dd093b2a2f",
        "collapsed": true
      },
      "execution_count": 4,
      "outputs": [
        {
          "output_type": "stream",
          "name": "stdout",
          "text": [
            "Collecting atomium\n",
            "  Downloading atomium-1.0.11-py3-none-any.whl.metadata (21 kB)\n",
            "Requirement already satisfied: numpy in /usr/local/lib/python3.11/dist-packages (from atomium) (2.0.2)\n",
            "Requirement already satisfied: requests in /usr/local/lib/python3.11/dist-packages (from atomium) (2.32.3)\n",
            "Collecting rmsd (from atomium)\n",
            "  Downloading rmsd-1.6.4-py3-none-any.whl.metadata (8.6 kB)\n",
            "Collecting paramiko (from atomium)\n",
            "  Downloading paramiko-3.5.1-py3-none-any.whl.metadata (4.6 kB)\n",
            "Requirement already satisfied: msgpack in /usr/local/lib/python3.11/dist-packages (from atomium) (1.1.0)\n",
            "Collecting valerius (from atomium)\n",
            "  Downloading valerius-0.2.0-py3-none-any.whl.metadata (715 bytes)\n",
            "Collecting bcrypt>=3.2 (from paramiko->atomium)\n",
            "  Downloading bcrypt-4.3.0-cp39-abi3-manylinux_2_34_x86_64.whl.metadata (10 kB)\n",
            "Requirement already satisfied: cryptography>=3.3 in /usr/local/lib/python3.11/dist-packages (from paramiko->atomium) (43.0.3)\n",
            "Collecting pynacl>=1.5 (from paramiko->atomium)\n",
            "  Downloading PyNaCl-1.5.0-cp36-abi3-manylinux_2_17_x86_64.manylinux2014_x86_64.manylinux_2_24_x86_64.whl.metadata (8.6 kB)\n",
            "Requirement already satisfied: charset-normalizer<4,>=2 in /usr/local/lib/python3.11/dist-packages (from requests->atomium) (3.4.1)\n",
            "Requirement already satisfied: idna<4,>=2.5 in /usr/local/lib/python3.11/dist-packages (from requests->atomium) (3.10)\n",
            "Requirement already satisfied: urllib3<3,>=1.21.1 in /usr/local/lib/python3.11/dist-packages (from requests->atomium) (2.3.0)\n",
            "Requirement already satisfied: certifi>=2017.4.17 in /usr/local/lib/python3.11/dist-packages (from requests->atomium) (2025.1.31)\n",
            "Requirement already satisfied: scipy in /usr/local/lib/python3.11/dist-packages (from rmsd->atomium) (1.14.1)\n",
            "Requirement already satisfied: cffi>=1.12 in /usr/local/lib/python3.11/dist-packages (from cryptography>=3.3->paramiko->atomium) (1.17.1)\n",
            "Requirement already satisfied: pycparser in /usr/local/lib/python3.11/dist-packages (from cffi>=1.12->cryptography>=3.3->paramiko->atomium) (2.22)\n",
            "Downloading atomium-1.0.11-py3-none-any.whl (48 kB)\n",
            "\u001b[2K   \u001b[90m━━━━━━━━━━━━━━━━━━━━━━━━━━━━━━━━━━━━━━━━\u001b[0m \u001b[32m48.3/48.3 kB\u001b[0m \u001b[31m2.9 MB/s\u001b[0m eta \u001b[36m0:00:00\u001b[0m\n",
            "\u001b[?25hDownloading paramiko-3.5.1-py3-none-any.whl (227 kB)\n",
            "\u001b[2K   \u001b[90m━━━━━━━━━━━━━━━━━━━━━━━━━━━━━━━━━━━━━━━━\u001b[0m \u001b[32m227.3/227.3 kB\u001b[0m \u001b[31m14.6 MB/s\u001b[0m eta \u001b[36m0:00:00\u001b[0m\n",
            "\u001b[?25hDownloading rmsd-1.6.4-py3-none-any.whl (22 kB)\n",
            "Downloading valerius-0.2.0-py3-none-any.whl (4.6 kB)\n",
            "Downloading bcrypt-4.3.0-cp39-abi3-manylinux_2_34_x86_64.whl (284 kB)\n",
            "\u001b[2K   \u001b[90m━━━━━━━━━━━━━━━━━━━━━━━━━━━━━━━━━━━━━━━━\u001b[0m \u001b[32m284.2/284.2 kB\u001b[0m \u001b[31m23.4 MB/s\u001b[0m eta \u001b[36m0:00:00\u001b[0m\n",
            "\u001b[?25hDownloading PyNaCl-1.5.0-cp36-abi3-manylinux_2_17_x86_64.manylinux2014_x86_64.manylinux_2_24_x86_64.whl (856 kB)\n",
            "\u001b[2K   \u001b[90m━━━━━━━━━━━━━━━━━━━━━━━━━━━━━━━━━━━━━━━━\u001b[0m \u001b[32m856.7/856.7 kB\u001b[0m \u001b[31m35.7 MB/s\u001b[0m eta \u001b[36m0:00:00\u001b[0m\n",
            "\u001b[?25hInstalling collected packages: bcrypt, valerius, rmsd, pynacl, paramiko, atomium\n",
            "Successfully installed atomium-1.0.11 bcrypt-4.3.0 paramiko-3.5.1 pynacl-1.5.0 rmsd-1.6.4 valerius-0.2.0\n"
          ]
        }
      ]
    },
    {
      "cell_type": "code",
      "source": [
        "import sys, os\n",
        "from sys import version_info\n"
      ],
      "metadata": {
        "id": "0To84pUc3mFy"
      },
      "execution_count": 5,
      "outputs": []
    },
    {
      "cell_type": "code",
      "source": [
        "PYTHON_VERSION = f\"{version_info.major}.{version_info.minor}\"\n",
        "\n",
        "print(\"installing conda...\")\n",
        "os.system(\"wget -qnc https://github.com/conda-forge/miniforge/releases/latest/download/Miniforge3-Linux-x86_64.sh\")\n",
        "os.system(\"bash Miniforge3-Linux-x86_64.sh -bfp /usr/local\")\n",
        "os.system(\"mamba config --set auto_update_conda false\")\n",
        "os.system(\"touch CONDA_READY\")\n",
        "\n",
        "#  os.system(f\"mamba install -y -q -c conda-forge openmm=7.7.0 python='{PYTHON_VERSION}' pdbfixer 2>&1 1>/dev/null\")\n",
        "\n",
        "PATH = f\"/usr/local/lib/python{PYTHON_VERSION}/site-packages/\"\n",
        "if PATH not in sys.path:\n",
        "  sys.path.insert(0, PATH)"
      ],
      "metadata": {
        "colab": {
          "base_uri": "https://localhost:8080/"
        },
        "id": "UOwxYAAe3Vxu",
        "outputId": "ee425b9d-3782-4cac-a903-c3b38446710f"
      },
      "execution_count": 6,
      "outputs": [
        {
          "output_type": "stream",
          "name": "stdout",
          "text": [
            "installing conda...\n"
          ]
        }
      ]
    },
    {
      "cell_type": "code",
      "source": [
        "os.system(f\"mamba install -y -q -c conda-forge python='{PYTHON_VERSION}' 2>&1 1>/dev/null\")"
      ],
      "metadata": {
        "colab": {
          "base_uri": "https://localhost:8080/"
        },
        "id": "cm8WFgbHS_sH",
        "outputId": "6c62b2dc-aa11-43b6-dd5d-0481cadcf48d"
      },
      "execution_count": 7,
      "outputs": [
        {
          "output_type": "execute_result",
          "data": {
            "text/plain": [
              "0"
            ]
          },
          "metadata": {},
          "execution_count": 7
        }
      ]
    },
    {
      "cell_type": "code",
      "source": [
        "os.system(f\"mamba install -y -q -c conda-forge gemmi openbabel biopython 2>&1 1>/dev/null\")"
      ],
      "metadata": {
        "colab": {
          "base_uri": "https://localhost:8080/"
        },
        "id": "7_t0f3LL3r4U",
        "outputId": "d5527d11-eead-401a-c5ea-4cc6c15823f0"
      },
      "execution_count": 8,
      "outputs": [
        {
          "output_type": "execute_result",
          "data": {
            "text/plain": [
              "0"
            ]
          },
          "metadata": {},
          "execution_count": 8
        }
      ]
    },
    {
      "cell_type": "code",
      "source": [
        "from arpeggio.core import InteractionComplex\n",
        "from arpeggio.core.utils import max_mem_usage\n",
        "import atomium\n",
        "import glob\n",
        "import pandas as pd\n",
        "import time\n"
      ],
      "metadata": {
        "id": "SWzsAVl6OzZu"
      },
      "execution_count": 9,
      "outputs": []
    },
    {
      "cell_type": "code",
      "source": [
        "section_to_add = '''loop_\n",
        "_chem_comp.id\n",
        "_chem_comp.type\n",
        "_chem_comp.mon_nstd_flag\n",
        "_chem_comp.name\n",
        "_chem_comp.pdbx_synonyms\n",
        "_chem_comp.formula\n",
        "_chem_comp.formula_weight\n",
        "ALA \"L-peptide linking\" y ALANINE         ? \"C3 H7 N O2\"     89.093\n",
        "ARG \"L-peptide linking\" y ARGININE        ? \"C6 H15 N4 O2 1\" 175.209\n",
        "ASN \"L-peptide linking\" y ASPARAGINE      ? \"C4 H8 N2 O3\"    132.118\n",
        "ASP \"L-peptide linking\" y \"ASPARTIC ACID\" ? \"C4 H7 N O4\"     133.103\n",
        "CYS \"L-peptide linking\" y CYSTEINE        ? \"C3 H7 N O2 S\"   121.158\n",
        "GLN \"L-peptide linking\" y GLUTAMINE       ? \"C5 H10 N2 O3\"   146.144\n",
        "GLU \"L-peptide linking\" y \"GLUTAMIC ACID\" ? \"C5 H9 N O4\"     147.129\n",
        "GLY \"peptide linking\"   y GLYCINE         ? \"C2 H5 N O2\"     75.067\n",
        "HIS \"L-peptide linking\" y HISTIDINE       ? \"C6 H10 N3 O2 1\" 156.162\n",
        "ILE \"L-peptide linking\" y ISOLEUCINE      ? \"C6 H13 N O2\"    131.173\n",
        "LEU \"L-peptide linking\" y LEUCINE         ? \"C6 H13 N O2\"    131.173\n",
        "LYS \"L-peptide linking\" y LYSINE          ? \"C6 H15 N2 O2 1\" 147.195\n",
        "MET \"L-peptide linking\" y METHIONINE      ? \"C5 H11 N O2 S\"  149.211\n",
        "PHE \"L-peptide linking\" y PHENYLALANINE   ? \"C9 H11 N O2\"    165.189\n",
        "PRO \"L-peptide linking\" y PROLINE         ? \"C5 H9 N O2\"     115.130\n",
        "SER \"L-peptide linking\" y SERINE          ? \"C3 H7 N O3\"     105.093\n",
        "THR \"L-peptide linking\" y THREONINE       ? \"C4 H9 N O3\"     119.119\n",
        "TRP \"L-peptide linking\" y TRYPTOPHAN      ? \"C11 H12 N2 O2\"  204.225\n",
        "TYR \"L-peptide linking\" y TYROSINE        ? \"C9 H11 N O3\"    181.189\n",
        "VAL \"L-peptide linking\" y VALINE          ? \"C5 H11 N O2\"    117.146\n",
        "#\n",
        "loop_\n",
        "_atom_site.group_PDB\n",
        "_atom_site.id'''\n",
        "\n",
        "to_replace = '''loop_\n",
        "_atom_site.group_PDB\n",
        "_atom_site.id'''"
      ],
      "metadata": {
        "id": "H2-yAn5EOKJ5"
      },
      "execution_count": 10,
      "outputs": []
    },
    {
      "cell_type": "code",
      "source": [
        "selections = [\"/B//\"]  # /<chain_id>/<res_num>[<ins_code>]/<atom_name>\n",
        "interacting = 5.0\n",
        "ph = 7.4\n",
        "vdw_comp = 0.1\n",
        "include_sequence_adjacent = False\n",
        "\n",
        "try:\n",
        "    pdb1 = atomium.open(pdb)\n",
        "    pdb1.model.save('current.cif')\n",
        "\n",
        "    with open('current.cif', 'r') as opened:\n",
        "        ok = opened.read()\n",
        "        ok = ok.replace(to_replace, section_to_add)\n",
        "    with open('currentsurgery.cif', 'w') as opened:\n",
        "        opened.write(ok)\n",
        "\n",
        "    i_complex = InteractionComplex(\n",
        "        'currentsurgery.cif', vdw_comp, interacting, ph\n",
        "    )\n",
        "    i_complex.structure_checks()\n",
        "    i_complex.initialize()\n",
        "    i_complex.run_arpeggio(\n",
        "        selections, interacting, vdw_comp, include_sequence_adjacent\n",
        "    )\n",
        "\n",
        "    contacts = i_complex.get_contacts()\n",
        "    contacts = pd.DataFrame(contacts)\n",
        "    interonly = contacts[contacts['interacting_entities'] == 'INTER']\n",
        "    interonly['contact'] = interonly['contact'].apply(lambda x: tuple(x))\n",
        "    noproximal = interonly[interonly['contact'] != ('proximal',)].reset_index(drop=True)\n",
        "    noproximal['path'] = pdb\n",
        "    noproximal.to_parquet('/content/single_contact.parquet')\n",
        "\n",
        "except Exception as e:\n",
        "    print(f\"Failed to process: {e}\")\n"
      ],
      "metadata": {
        "colab": {
          "base_uri": "https://localhost:8080/"
        },
        "id": "4U5BK9NJQC8i",
        "outputId": "201254ca-9295-4a82-d35f-45a91fd6f022"
      },
      "execution_count": 11,
      "outputs": [
        {
          "output_type": "stream",
          "name": "stderr",
          "text": [
            "<ipython-input-11-597a2e4c76dc>:29: SettingWithCopyWarning: \n",
            "A value is trying to be set on a copy of a slice from a DataFrame.\n",
            "Try using .loc[row_indexer,col_indexer] = value instead\n",
            "\n",
            "See the caveats in the documentation: https://pandas.pydata.org/pandas-docs/stable/user_guide/indexing.html#returning-a-view-versus-a-copy\n",
            "  interonly['contact'] = interonly['contact'].apply(lambda x: tuple(x))\n"
          ]
        }
      ]
    }
  ],
  "metadata": {
    "colab": {
      "provenance": [],
      "machine_shape": "hm"
    },
    "kernelspec": {
      "display_name": "Python 3",
      "name": "python3"
    },
    "language_info": {
      "name": "python"
    }
  },
  "nbformat": 4,
  "nbformat_minor": 0
}